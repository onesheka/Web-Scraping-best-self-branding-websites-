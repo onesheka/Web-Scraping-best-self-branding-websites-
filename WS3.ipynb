{
 "cells": [
  {
   "cell_type": "markdown",
   "metadata": {},
   "source": [
    "# <center>BEST SELF BRANDING WEBSITES OF 2019</center>"
   ]
  },
  {
   "cell_type": "markdown",
   "metadata": {},
   "source": [
    "A webpage that I like of www.collegeinfogeeks.com has been scraped -<a href=\"https://collegeinfogeek.com/personal-website-examples/\"> 50 of the Best Personal Website and Portfolio Examples in 2019 </a>.<br> When we look at the web page, we have to scroll down all the content. Also the webpage doesn't provide the url of the websites mentioned. We have to click on each website Owner's Name which opens the tab in a new page. So we will scrape the webpage to form a csv file which contains 3 columns - \"Name\", \"Website\" and the \"Best Part\" about the website according to the author.<br>\n",
    "This data can be useful for someone thinking of building their own personal branding website as they can compare and view the sites accordingly."
   ]
  },
  {
   "cell_type": "markdown",
   "metadata": {},
   "source": [
    "### STEP 1 : Analysing the webpage"
   ]
  },
  {
   "cell_type": "markdown",
   "metadata": {},
   "source": [
    "Looking at the webpage carefully and the source code for the very first site, it's clear that all we want is inside the \"strong\" tags <br>\n",
    "<img src=\"website_tags.jpg\">"
   ]
  },
  {
   "cell_type": "markdown",
   "metadata": {},
   "source": [
    "### STEP 2 : Reading the webpage into Python"
   ]
  },
  {
   "cell_type": "code",
   "execution_count": 1,
   "metadata": {},
   "outputs": [],
   "source": [
    "import requests\n",
    "r = requests.get(\"https://collegeinfogeek.com/personal-website-examples/\")"
   ]
  },
  {
   "cell_type": "markdown",
   "metadata": {},
   "source": [
    "### STEP 3: Parsing the elements using BeautifulSoup"
   ]
  },
  {
   "cell_type": "code",
   "execution_count": 2,
   "metadata": {},
   "outputs": [],
   "source": [
    "from bs4 import BeautifulSoup\n",
    "soup = BeautifulSoup(r.text, 'html.parser')"
   ]
  },
  {
   "cell_type": "markdown",
   "metadata": {},
   "source": [
    "### STEP 4 : Collecting all the Records"
   ]
  },
  {
   "cell_type": "code",
   "execution_count": 3,
   "metadata": {},
   "outputs": [
    {
     "data": {
      "text/plain": [
       "[<strong>set you apart</strong>,\n",
       " <strong>50</strong>,\n",
       " <strong>1. <a href=\"https://www.garyvaynerchuk.com/\">Gary Vaynerchuk</a></strong>,\n",
       " <strong>Featured video</strong>,\n",
       " <strong>2. <a href=\"https://www.hankgreen.com/\">Hank Green</a></strong>,\n",
       " <strong>Project showcase with personality</strong>,\n",
       " <strong>3. <a href=\"http://www.johngreenbooks.com/\">John Green</a></strong>,\n",
       " <strong>Compact project showcase</strong>,\n",
       " <strong>4. <a href=\"http://www.tejucole.com/\">Teju Cole</a></strong>,\n",
       " <strong>5. <a href=\"http://www.cgpgrey.com/\">CGP Grey</a></strong>,\n",
       " <strong>Minimalist project list</strong>,\n",
       " <strong>6. <a href=\"http://grantbaldwin.com/\">Grant Baldwin</a></strong>,\n",
       " <strong>Clear navigation</strong>,\n",
       " <strong>7. <a href=\"https://zacharysexton.com/\">Zachary Sexton</a></strong>,\n",
       " <strong>Concise tagline</strong>,\n",
       " <strong>8. <a href=\"http://www.soundsgoodcopy.com/\">Rebecca Parson</a></strong>,\n",
       " <strong>Clear contact information</strong>,\n",
       " <strong>9. <a href=\"http://www.alkavadlo.com/\">Al Kavadlo</a></strong>,\n",
       " <strong>Branding with personality</strong>,\n",
       " <strong>10. <a href=\"http://stevenkinnear.com/\">Dr. Steven Kinnear</a></strong>,\n",
       " <strong>Unconventional branding</strong>,\n",
       " <strong>11. <a href=\"http://desireeadaway.com/\">Desiree Adaway</a></strong>,\n",
       " <strong>Prominent photo</strong>,\n",
       " <strong>12. <a href=\"https://jamesranson.com/\">James Ranson</a></strong>,\n",
       " <strong>Branding</strong>,\n",
       " <strong>13. <a href=\"http://www.roxinekee.com/\">Roxine Kee</a></strong>,\n",
       " <strong>Bold mission statement</strong>,\n",
       " <strong>14. <a href=\"http://beautifully-weird-words.com/me/\">Elizabeth Lundin</a></strong>,\n",
       " <strong>Affirmative, inviting homepage</strong>,\n",
       " <strong>15. <a href=\"http://kimberlyhorton.com/\">Kimberly Horton</a></strong>,\n",
       " <strong>Well-written “Start Here” page</strong>,\n",
       " <strong>16. <a href=\"https://taharkhan.com/\">Taha Khan</a></strong>,\n",
       " <strong>Showcasing accomplishments</strong>,\n",
       " <strong>17. <a href=\"http://andrewhuang.com/\">Andrew Huang</a></strong>,\n",
       " <strong>Unique photo</strong>,\n",
       " <strong>18. <a href=\"http://blindfilmcritic.com/\">Tommy Edison</a></strong>,\n",
       " <strong>Innovative brand</strong>,\n",
       " <strong>19. <a href=\"https://www.tomscott.com/\">Tom Scott</a></strong>,\n",
       " <strong>Self-deprecating humor</strong>,\n",
       " <strong>20. <a href=\"http://sherocksatcollege.com/\">Clarissa Rodriguez</a></strong>,\n",
       " <strong>Unconventional contact method</strong>,\n",
       " <strong>21. <a href=\"http://www.metalearn.net/\">Nasos Papadopoulos</a></strong>,\n",
       " <strong>Inviting, confident photo</strong>,\n",
       " <strong>22. <a href=\"https://www.matthewbarby.com/\">Matthew Barby</a></strong>,\n",
       " <strong>Compelling tagline</strong>,\n",
       " <strong>23. <a href=\"http://isaadney.com/\">Isa Adney</a></strong>,\n",
       " <strong>24. <a href=\"http://www.tastefullytash.com/\">Tasha Meys</a></strong>,\n",
       " <strong>Elegant work showcase</strong>,\n",
       " <strong>25. <a href=\"https://www.debtfreecollegegrad.com/\">Shanice Miller</a></strong>,\n",
       " <strong>Authoritative logo</strong>,\n",
       " <strong>26. <a href=\"https://ednatheux.com/\">Edna Cerrillos</a></strong>,\n",
       " <strong>Image links</strong>,\n",
       " <strong>27. <a href=\"http://www.roxanegay.com/\">Roxane Gay</a></strong>,\n",
       " <strong>Minimalism with personality</strong>,\n",
       " <strong>28. <a href=\"https://charlimarie.com/\">Charli Marie</a></strong>,\n",
       " <strong>Tasteful animation</strong>,\n",
       " <strong>29. <a href=\"https://diogotc.com/\">Diogo Correia</a></strong>,\n",
       " <strong>Unconventional portfolio design</strong>,\n",
       " <strong>30. <a href=\"http://annaellenberger.com/\">Anna Ellenberger</a></strong>,\n",
       " <strong>Dramatic color scheme</strong>,\n",
       " <strong>31. <a href=\"http://www.scottsantens.com/\">Scott Santens</a></strong>,\n",
       " <strong>Concise design and navigation</strong>,\n",
       " <strong>32. <a href=\"http://sarastenman.format.com/\">Sara Stenman</a></strong>,\n",
       " <strong>Intense minimalism</strong>,\n",
       " <strong>33. <a href=\"http://chrisbrogan.com/\">Chris Brogan</a></strong>,\n",
       " <strong>Clear value proposition</strong>,\n",
       " <strong>34. <a href=\"http://seanoconn.org/\">Sean O’Connor</a></strong>,\n",
       " <strong>Concise and memorable</strong>,\n",
       " <strong>35. <a href=\"https://joelrunyon.com/\">Joel Runyon</a></strong>,\n",
       " <strong>Pick 3 things</strong>,\n",
       " <strong>36. <a href=\"https://taylorpearson.me/\">Taylor Pearson</a></strong>,\n",
       " <strong>Humility</strong>,\n",
       " <strong>37. <a href=\"http://www.tampham.co/\">Tam Pham</a></strong>,\n",
       " <strong>Compelling business pitch</strong>,\n",
       " <strong>38. <a href=\"https://patflynn.com/\">Pat Flynn</a></strong>,\n",
       " <strong>A compelling story</strong>,\n",
       " <strong>39. <a href=\"https://www.scotthyoung.com/blog/\">Scott Young</a></strong>,\n",
       " <strong>Document your experiments</strong>,\n",
       " <strong>40. <a href=\"https://jamesclear.com/\">James Clear</a></strong>,\n",
       " <strong>A blend of storytelling and practical advice</strong>,\n",
       " <strong>41. <a href=\"https://www.nateliason.com/\">Nat Eliason</a></strong>,\n",
       " <strong>Write about what interests you</strong>,\n",
       " <strong>42. <a href=\"https://austinkleon.com/\">Austin Kleon</a></strong>,\n",
       " <strong>Show your work</strong>,\n",
       " <strong>43. <a href=\"http://calnewport.com/\">Cal Newport</a></strong>,\n",
       " <strong>Write less; say more</strong>,\n",
       " <strong>44. <a href=\"https://www.taniarascia.com/\">Tania Rascia</a></strong>,\n",
       " <strong>Editorial integrity and transparency</strong>,\n",
       " <strong>45. <a href=\"https://www.kristinwong.com/\">Kristin Wong</a></strong>,\n",
       " <strong>Use media logos</strong>,\n",
       " <strong>46. <a href=\"http://www.ajafrost.com/\">Aja Frost</a></strong>,\n",
       " <strong>Classic, easy navigation</strong>,\n",
       " <strong>47. <a href=\"http://martinboeh.me/\">Martin Boehme</a></strong>,\n",
       " <strong>One-page portfolio design</strong>,\n",
       " <strong>48. <a href=\"http://ashleyndiers.com/\">Ashley Diers</a></strong>,\n",
       " <strong>Images are compelling </strong>,\n",
       " <strong>49. <a href=\"https://www.danielgrindrod.com/\">Daniel Grindrod</a></strong>,\n",
       " <strong>Highlight reel</strong>,\n",
       " <strong>50. <a href=\"http://jonmiron.com/\">Jon Miron</a></strong>,\n",
       " <strong>220,000</strong>,\n",
       " <strong>free</strong>]"
      ]
     },
     "execution_count": 3,
     "metadata": {},
     "output_type": "execute_result"
    }
   ],
   "source": [
    "ans = soup.find_all('strong') ##finding all the strong elements\n",
    "ans[0:] ##we don't need first 2 rows and the last row. So removing them using slicing\n"
   ]
  },
  {
   "cell_type": "code",
   "execution_count": 4,
   "metadata": {},
   "outputs": [],
   "source": [
    "ans = ans[2:-1]"
   ]
  },
  {
   "cell_type": "code",
   "execution_count": 5,
   "metadata": {},
   "outputs": [
    {
     "data": {
      "text/plain": [
       "[<strong>1. <a href=\"https://www.garyvaynerchuk.com/\">Gary Vaynerchuk</a></strong>,\n",
       " <strong>Featured video</strong>,\n",
       " <strong>2. <a href=\"https://www.hankgreen.com/\">Hank Green</a></strong>,\n",
       " <strong>Project showcase with personality</strong>,\n",
       " <strong>3. <a href=\"http://www.johngreenbooks.com/\">John Green</a></strong>,\n",
       " <strong>Compact project showcase</strong>,\n",
       " <strong>4. <a href=\"http://www.tejucole.com/\">Teju Cole</a></strong>,\n",
       " <strong>5. <a href=\"http://www.cgpgrey.com/\">CGP Grey</a></strong>,\n",
       " <strong>Minimalist project list</strong>,\n",
       " <strong>6. <a href=\"http://grantbaldwin.com/\">Grant Baldwin</a></strong>,\n",
       " <strong>Clear navigation</strong>,\n",
       " <strong>7. <a href=\"https://zacharysexton.com/\">Zachary Sexton</a></strong>,\n",
       " <strong>Concise tagline</strong>,\n",
       " <strong>8. <a href=\"http://www.soundsgoodcopy.com/\">Rebecca Parson</a></strong>,\n",
       " <strong>Clear contact information</strong>,\n",
       " <strong>9. <a href=\"http://www.alkavadlo.com/\">Al Kavadlo</a></strong>,\n",
       " <strong>Branding with personality</strong>,\n",
       " <strong>10. <a href=\"http://stevenkinnear.com/\">Dr. Steven Kinnear</a></strong>,\n",
       " <strong>Unconventional branding</strong>,\n",
       " <strong>11. <a href=\"http://desireeadaway.com/\">Desiree Adaway</a></strong>,\n",
       " <strong>Prominent photo</strong>,\n",
       " <strong>12. <a href=\"https://jamesranson.com/\">James Ranson</a></strong>,\n",
       " <strong>Branding</strong>,\n",
       " <strong>13. <a href=\"http://www.roxinekee.com/\">Roxine Kee</a></strong>,\n",
       " <strong>Bold mission statement</strong>,\n",
       " <strong>14. <a href=\"http://beautifully-weird-words.com/me/\">Elizabeth Lundin</a></strong>,\n",
       " <strong>Affirmative, inviting homepage</strong>,\n",
       " <strong>15. <a href=\"http://kimberlyhorton.com/\">Kimberly Horton</a></strong>,\n",
       " <strong>Well-written “Start Here” page</strong>,\n",
       " <strong>16. <a href=\"https://taharkhan.com/\">Taha Khan</a></strong>,\n",
       " <strong>Showcasing accomplishments</strong>,\n",
       " <strong>17. <a href=\"http://andrewhuang.com/\">Andrew Huang</a></strong>,\n",
       " <strong>Unique photo</strong>,\n",
       " <strong>18. <a href=\"http://blindfilmcritic.com/\">Tommy Edison</a></strong>,\n",
       " <strong>Innovative brand</strong>,\n",
       " <strong>19. <a href=\"https://www.tomscott.com/\">Tom Scott</a></strong>,\n",
       " <strong>Self-deprecating humor</strong>,\n",
       " <strong>20. <a href=\"http://sherocksatcollege.com/\">Clarissa Rodriguez</a></strong>,\n",
       " <strong>Unconventional contact method</strong>,\n",
       " <strong>21. <a href=\"http://www.metalearn.net/\">Nasos Papadopoulos</a></strong>,\n",
       " <strong>Inviting, confident photo</strong>,\n",
       " <strong>22. <a href=\"https://www.matthewbarby.com/\">Matthew Barby</a></strong>,\n",
       " <strong>Compelling tagline</strong>,\n",
       " <strong>23. <a href=\"http://isaadney.com/\">Isa Adney</a></strong>,\n",
       " <strong>24. <a href=\"http://www.tastefullytash.com/\">Tasha Meys</a></strong>,\n",
       " <strong>Elegant work showcase</strong>,\n",
       " <strong>25. <a href=\"https://www.debtfreecollegegrad.com/\">Shanice Miller</a></strong>,\n",
       " <strong>Authoritative logo</strong>,\n",
       " <strong>26. <a href=\"https://ednatheux.com/\">Edna Cerrillos</a></strong>,\n",
       " <strong>Image links</strong>,\n",
       " <strong>27. <a href=\"http://www.roxanegay.com/\">Roxane Gay</a></strong>,\n",
       " <strong>Minimalism with personality</strong>,\n",
       " <strong>28. <a href=\"https://charlimarie.com/\">Charli Marie</a></strong>,\n",
       " <strong>Tasteful animation</strong>,\n",
       " <strong>29. <a href=\"https://diogotc.com/\">Diogo Correia</a></strong>,\n",
       " <strong>Unconventional portfolio design</strong>,\n",
       " <strong>30. <a href=\"http://annaellenberger.com/\">Anna Ellenberger</a></strong>,\n",
       " <strong>Dramatic color scheme</strong>,\n",
       " <strong>31. <a href=\"http://www.scottsantens.com/\">Scott Santens</a></strong>,\n",
       " <strong>Concise design and navigation</strong>,\n",
       " <strong>32. <a href=\"http://sarastenman.format.com/\">Sara Stenman</a></strong>,\n",
       " <strong>Intense minimalism</strong>,\n",
       " <strong>33. <a href=\"http://chrisbrogan.com/\">Chris Brogan</a></strong>,\n",
       " <strong>Clear value proposition</strong>,\n",
       " <strong>34. <a href=\"http://seanoconn.org/\">Sean O’Connor</a></strong>,\n",
       " <strong>Concise and memorable</strong>,\n",
       " <strong>35. <a href=\"https://joelrunyon.com/\">Joel Runyon</a></strong>,\n",
       " <strong>Pick 3 things</strong>,\n",
       " <strong>36. <a href=\"https://taylorpearson.me/\">Taylor Pearson</a></strong>,\n",
       " <strong>Humility</strong>,\n",
       " <strong>37. <a href=\"http://www.tampham.co/\">Tam Pham</a></strong>,\n",
       " <strong>Compelling business pitch</strong>,\n",
       " <strong>38. <a href=\"https://patflynn.com/\">Pat Flynn</a></strong>,\n",
       " <strong>A compelling story</strong>,\n",
       " <strong>39. <a href=\"https://www.scotthyoung.com/blog/\">Scott Young</a></strong>,\n",
       " <strong>Document your experiments</strong>,\n",
       " <strong>40. <a href=\"https://jamesclear.com/\">James Clear</a></strong>,\n",
       " <strong>A blend of storytelling and practical advice</strong>,\n",
       " <strong>41. <a href=\"https://www.nateliason.com/\">Nat Eliason</a></strong>,\n",
       " <strong>Write about what interests you</strong>,\n",
       " <strong>42. <a href=\"https://austinkleon.com/\">Austin Kleon</a></strong>,\n",
       " <strong>Show your work</strong>,\n",
       " <strong>43. <a href=\"http://calnewport.com/\">Cal Newport</a></strong>,\n",
       " <strong>Write less; say more</strong>,\n",
       " <strong>44. <a href=\"https://www.taniarascia.com/\">Tania Rascia</a></strong>,\n",
       " <strong>Editorial integrity and transparency</strong>,\n",
       " <strong>45. <a href=\"https://www.kristinwong.com/\">Kristin Wong</a></strong>,\n",
       " <strong>Use media logos</strong>,\n",
       " <strong>46. <a href=\"http://www.ajafrost.com/\">Aja Frost</a></strong>,\n",
       " <strong>Classic, easy navigation</strong>,\n",
       " <strong>47. <a href=\"http://martinboeh.me/\">Martin Boehme</a></strong>,\n",
       " <strong>One-page portfolio design</strong>,\n",
       " <strong>48. <a href=\"http://ashleyndiers.com/\">Ashley Diers</a></strong>,\n",
       " <strong>Images are compelling </strong>,\n",
       " <strong>49. <a href=\"https://www.danielgrindrod.com/\">Daniel Grindrod</a></strong>,\n",
       " <strong>Highlight reel</strong>,\n",
       " <strong>50. <a href=\"http://jonmiron.com/\">Jon Miron</a></strong>,\n",
       " <strong>220,000</strong>]"
      ]
     },
     "execution_count": 5,
     "metadata": {},
     "output_type": "execute_result"
    }
   ],
   "source": [
    "ans\n",
    "## Now we need to seperate the names(strong line) and best_part(strong line)"
   ]
  },
  {
   "cell_type": "code",
   "execution_count": 6,
   "metadata": {},
   "outputs": [],
   "source": [
    "l=[] ## for appending name and wesbite\n",
    "l2=[] ## for appending the \"best part\"\n",
    "for val in ans:\n",
    "    if(ord(val.text[0]) <= 57): ## taking the advantage of lines having numbers(for getting name and website)\n",
    "        k = val.find('a') ## anchor tag\n",
    "        l.append(k)\n",
    "    else:\n",
    "        l2.append(val)\n",
    "# in l as last value is not needed(number), removing it\n",
    "l = l[0:-1]"
   ]
  },
  {
   "cell_type": "code",
   "execution_count": 7,
   "metadata": {},
   "outputs": [
    {
     "name": "stdout",
     "output_type": "stream",
     "text": [
      "50\n"
     ]
    },
    {
     "data": {
      "text/plain": [
       "[<a href=\"https://www.garyvaynerchuk.com/\">Gary Vaynerchuk</a>,\n",
       " <a href=\"https://www.hankgreen.com/\">Hank Green</a>,\n",
       " <a href=\"http://www.johngreenbooks.com/\">John Green</a>,\n",
       " <a href=\"http://www.tejucole.com/\">Teju Cole</a>,\n",
       " <a href=\"http://www.cgpgrey.com/\">CGP Grey</a>,\n",
       " <a href=\"http://grantbaldwin.com/\">Grant Baldwin</a>,\n",
       " <a href=\"https://zacharysexton.com/\">Zachary Sexton</a>,\n",
       " <a href=\"http://www.soundsgoodcopy.com/\">Rebecca Parson</a>,\n",
       " <a href=\"http://www.alkavadlo.com/\">Al Kavadlo</a>,\n",
       " <a href=\"http://stevenkinnear.com/\">Dr. Steven Kinnear</a>,\n",
       " <a href=\"http://desireeadaway.com/\">Desiree Adaway</a>,\n",
       " <a href=\"https://jamesranson.com/\">James Ranson</a>,\n",
       " <a href=\"http://www.roxinekee.com/\">Roxine Kee</a>,\n",
       " <a href=\"http://beautifully-weird-words.com/me/\">Elizabeth Lundin</a>,\n",
       " <a href=\"http://kimberlyhorton.com/\">Kimberly Horton</a>,\n",
       " <a href=\"https://taharkhan.com/\">Taha Khan</a>,\n",
       " <a href=\"http://andrewhuang.com/\">Andrew Huang</a>,\n",
       " <a href=\"http://blindfilmcritic.com/\">Tommy Edison</a>,\n",
       " <a href=\"https://www.tomscott.com/\">Tom Scott</a>,\n",
       " <a href=\"http://sherocksatcollege.com/\">Clarissa Rodriguez</a>,\n",
       " <a href=\"http://www.metalearn.net/\">Nasos Papadopoulos</a>,\n",
       " <a href=\"https://www.matthewbarby.com/\">Matthew Barby</a>,\n",
       " <a href=\"http://isaadney.com/\">Isa Adney</a>,\n",
       " <a href=\"http://www.tastefullytash.com/\">Tasha Meys</a>,\n",
       " <a href=\"https://www.debtfreecollegegrad.com/\">Shanice Miller</a>,\n",
       " <a href=\"https://ednatheux.com/\">Edna Cerrillos</a>,\n",
       " <a href=\"http://www.roxanegay.com/\">Roxane Gay</a>,\n",
       " <a href=\"https://charlimarie.com/\">Charli Marie</a>,\n",
       " <a href=\"https://diogotc.com/\">Diogo Correia</a>,\n",
       " <a href=\"http://annaellenberger.com/\">Anna Ellenberger</a>,\n",
       " <a href=\"http://www.scottsantens.com/\">Scott Santens</a>,\n",
       " <a href=\"http://sarastenman.format.com/\">Sara Stenman</a>,\n",
       " <a href=\"http://chrisbrogan.com/\">Chris Brogan</a>,\n",
       " <a href=\"http://seanoconn.org/\">Sean O’Connor</a>,\n",
       " <a href=\"https://joelrunyon.com/\">Joel Runyon</a>,\n",
       " <a href=\"https://taylorpearson.me/\">Taylor Pearson</a>,\n",
       " <a href=\"http://www.tampham.co/\">Tam Pham</a>,\n",
       " <a href=\"https://patflynn.com/\">Pat Flynn</a>,\n",
       " <a href=\"https://www.scotthyoung.com/blog/\">Scott Young</a>,\n",
       " <a href=\"https://jamesclear.com/\">James Clear</a>,\n",
       " <a href=\"https://www.nateliason.com/\">Nat Eliason</a>,\n",
       " <a href=\"https://austinkleon.com/\">Austin Kleon</a>,\n",
       " <a href=\"http://calnewport.com/\">Cal Newport</a>,\n",
       " <a href=\"https://www.taniarascia.com/\">Tania Rascia</a>,\n",
       " <a href=\"https://www.kristinwong.com/\">Kristin Wong</a>,\n",
       " <a href=\"http://www.ajafrost.com/\">Aja Frost</a>,\n",
       " <a href=\"http://martinboeh.me/\">Martin Boehme</a>,\n",
       " <a href=\"http://ashleyndiers.com/\">Ashley Diers</a>,\n",
       " <a href=\"https://www.danielgrindrod.com/\">Daniel Grindrod</a>,\n",
       " <a href=\"http://jonmiron.com/\">Jon Miron</a>]"
      ]
     },
     "execution_count": 7,
     "metadata": {},
     "output_type": "execute_result"
    }
   ],
   "source": [
    "print(len(l))\n",
    "l"
   ]
  },
  {
   "cell_type": "code",
   "execution_count": 8,
   "metadata": {},
   "outputs": [
    {
     "name": "stdout",
     "output_type": "stream",
     "text": [
      "47\n"
     ]
    },
    {
     "data": {
      "text/plain": [
       "[<strong>Featured video</strong>,\n",
       " <strong>Project showcase with personality</strong>,\n",
       " <strong>Compact project showcase</strong>,\n",
       " <strong>Minimalist project list</strong>,\n",
       " <strong>Clear navigation</strong>,\n",
       " <strong>Concise tagline</strong>,\n",
       " <strong>Clear contact information</strong>,\n",
       " <strong>Branding with personality</strong>,\n",
       " <strong>Unconventional branding</strong>,\n",
       " <strong>Prominent photo</strong>,\n",
       " <strong>Branding</strong>,\n",
       " <strong>Bold mission statement</strong>,\n",
       " <strong>Affirmative, inviting homepage</strong>,\n",
       " <strong>Well-written “Start Here” page</strong>,\n",
       " <strong>Showcasing accomplishments</strong>,\n",
       " <strong>Unique photo</strong>,\n",
       " <strong>Innovative brand</strong>,\n",
       " <strong>Self-deprecating humor</strong>,\n",
       " <strong>Unconventional contact method</strong>,\n",
       " <strong>Inviting, confident photo</strong>,\n",
       " <strong>Compelling tagline</strong>,\n",
       " <strong>Elegant work showcase</strong>,\n",
       " <strong>Authoritative logo</strong>,\n",
       " <strong>Image links</strong>,\n",
       " <strong>Minimalism with personality</strong>,\n",
       " <strong>Tasteful animation</strong>,\n",
       " <strong>Unconventional portfolio design</strong>,\n",
       " <strong>Dramatic color scheme</strong>,\n",
       " <strong>Concise design and navigation</strong>,\n",
       " <strong>Intense minimalism</strong>,\n",
       " <strong>Clear value proposition</strong>,\n",
       " <strong>Concise and memorable</strong>,\n",
       " <strong>Pick 3 things</strong>,\n",
       " <strong>Humility</strong>,\n",
       " <strong>Compelling business pitch</strong>,\n",
       " <strong>A compelling story</strong>,\n",
       " <strong>Document your experiments</strong>,\n",
       " <strong>A blend of storytelling and practical advice</strong>,\n",
       " <strong>Write about what interests you</strong>,\n",
       " <strong>Show your work</strong>,\n",
       " <strong>Write less; say more</strong>,\n",
       " <strong>Editorial integrity and transparency</strong>,\n",
       " <strong>Use media logos</strong>,\n",
       " <strong>Classic, easy navigation</strong>,\n",
       " <strong>One-page portfolio design</strong>,\n",
       " <strong>Images are compelling </strong>,\n",
       " <strong>Highlight reel</strong>]"
      ]
     },
     "execution_count": 8,
     "metadata": {},
     "output_type": "execute_result"
    }
   ],
   "source": [
    "print(len(l2))\n",
    "l2\n",
    "## less values in l2 as 3 values at position 3,22 and 49 missing because of probably some problem in the source code of website"
   ]
  },
  {
   "cell_type": "code",
   "execution_count": 10,
   "metadata": {},
   "outputs": [
    {
     "name": "stdout",
     "output_type": "stream",
     "text": [
      "50\n"
     ]
    },
    {
     "data": {
      "text/plain": [
       "[<strong>Featured video</strong>,\n",
       " <strong>Project showcase with personality</strong>,\n",
       " <strong>Compact project showcase</strong>,\n",
       " 'NA',\n",
       " <strong>Minimalist project list</strong>,\n",
       " <strong>Clear navigation</strong>,\n",
       " <strong>Concise tagline</strong>,\n",
       " <strong>Clear contact information</strong>,\n",
       " <strong>Branding with personality</strong>,\n",
       " <strong>Unconventional branding</strong>,\n",
       " <strong>Prominent photo</strong>,\n",
       " <strong>Branding</strong>,\n",
       " <strong>Bold mission statement</strong>,\n",
       " <strong>Affirmative, inviting homepage</strong>,\n",
       " <strong>Well-written “Start Here” page</strong>,\n",
       " <strong>Showcasing accomplishments</strong>,\n",
       " <strong>Unique photo</strong>,\n",
       " <strong>Innovative brand</strong>,\n",
       " <strong>Self-deprecating humor</strong>,\n",
       " <strong>Unconventional contact method</strong>,\n",
       " <strong>Inviting, confident photo</strong>,\n",
       " <strong>Compelling tagline</strong>,\n",
       " 'NA',\n",
       " <strong>Elegant work showcase</strong>,\n",
       " <strong>Authoritative logo</strong>,\n",
       " <strong>Image links</strong>,\n",
       " <strong>Minimalism with personality</strong>,\n",
       " <strong>Tasteful animation</strong>,\n",
       " <strong>Unconventional portfolio design</strong>,\n",
       " <strong>Dramatic color scheme</strong>,\n",
       " <strong>Concise design and navigation</strong>,\n",
       " <strong>Intense minimalism</strong>,\n",
       " <strong>Clear value proposition</strong>,\n",
       " <strong>Concise and memorable</strong>,\n",
       " <strong>Pick 3 things</strong>,\n",
       " <strong>Humility</strong>,\n",
       " <strong>Compelling business pitch</strong>,\n",
       " <strong>A compelling story</strong>,\n",
       " <strong>Document your experiments</strong>,\n",
       " <strong>A blend of storytelling and practical advice</strong>,\n",
       " <strong>Write about what interests you</strong>,\n",
       " <strong>Show your work</strong>,\n",
       " <strong>Write less; say more</strong>,\n",
       " <strong>Editorial integrity and transparency</strong>,\n",
       " <strong>Use media logos</strong>,\n",
       " <strong>Classic, easy navigation</strong>,\n",
       " <strong>One-page portfolio design</strong>,\n",
       " <strong>Images are compelling </strong>,\n",
       " <strong>Highlight reel</strong>,\n",
       " 'NA']"
      ]
     },
     "execution_count": 10,
     "metadata": {},
     "output_type": "execute_result"
    }
   ],
   "source": [
    "## therefore, inserting those values\n",
    "l2.insert(3, \"NA\")\n",
    "l2.insert(22,\"NA\")\n",
    "l2.insert(49,\"NA\")\n",
    "print(len(l2)) ## now the values are assigned correctly\n",
    "l2"
   ]
  },
  {
   "cell_type": "code",
   "execution_count": 16,
   "metadata": {},
   "outputs": [
    {
     "name": "stdout",
     "output_type": "stream",
     "text": [
      "Gary Vaynerchuk\n",
      "https://www.garyvaynerchuk.com/\n",
      "Featured video\n"
     ]
    }
   ],
   "source": [
    "## to get the name we can simply type\n",
    "print(l[0].text) ## Name\n",
    "## to get the website, we can make use of regular expressions in python\n",
    "import re\n",
    "print(re.search('[h][t][t][p][a-z://www.]*',str(l[0])).group()) ## website\n",
    "## to get the best part\n",
    "print(l2[0].text) ## best part"
   ]
  },
  {
   "cell_type": "code",
   "execution_count": 17,
   "metadata": {},
   "outputs": [],
   "source": [
    "## hence looping \n",
    "records = []\n",
    "for i in range(0,50):\n",
    "    name = l[i].text\n",
    "    website = re.search('[h][t][t][p][a-z://www.-]*',str(l[i])).group()\n",
    "    if(l2[i]!=\"NA\"):\n",
    "        best_part = l2[i].text\n",
    "    else:\n",
    "        best_part = 'NA'\n",
    "    records.append((name,website,best_part))"
   ]
  },
  {
   "cell_type": "code",
   "execution_count": 18,
   "metadata": {},
   "outputs": [
    {
     "data": {
      "text/plain": [
       "[('Gary Vaynerchuk', 'https://www.garyvaynerchuk.com/', 'Featured video'),\n",
       " ('Hank Green',\n",
       "  'https://www.hankgreen.com/',\n",
       "  'Project showcase with personality'),\n",
       " ('John Green', 'http://www.johngreenbooks.com/', 'Compact project showcase'),\n",
       " ('Teju Cole', 'http://www.tejucole.com/', 'NA'),\n",
       " ('CGP Grey', 'http://www.cgpgrey.com/', 'Minimalist project list'),\n",
       " ('Grant Baldwin', 'http://grantbaldwin.com/', 'Clear navigation'),\n",
       " ('Zachary Sexton', 'https://zacharysexton.com/', 'Concise tagline'),\n",
       " ('Rebecca Parson',\n",
       "  'http://www.soundsgoodcopy.com/',\n",
       "  'Clear contact information'),\n",
       " ('Al Kavadlo', 'http://www.alkavadlo.com/', 'Branding with personality'),\n",
       " ('Dr. Steven Kinnear',\n",
       "  'http://stevenkinnear.com/',\n",
       "  'Unconventional branding'),\n",
       " ('Desiree Adaway', 'http://desireeadaway.com/', 'Prominent photo'),\n",
       " ('James Ranson', 'https://jamesranson.com/', 'Branding'),\n",
       " ('Roxine Kee', 'http://www.roxinekee.com/', 'Bold mission statement'),\n",
       " ('Elizabeth Lundin',\n",
       "  'http://beautifully-weird-words.com/me/',\n",
       "  'Affirmative, inviting homepage'),\n",
       " ('Kimberly Horton',\n",
       "  'http://kimberlyhorton.com/',\n",
       "  'Well-written “Start Here” page'),\n",
       " ('Taha Khan', 'https://taharkhan.com/', 'Showcasing accomplishments'),\n",
       " ('Andrew Huang', 'http://andrewhuang.com/', 'Unique photo'),\n",
       " ('Tommy Edison', 'http://blindfilmcritic.com/', 'Innovative brand'),\n",
       " ('Tom Scott', 'https://www.tomscott.com/', 'Self-deprecating humor'),\n",
       " ('Clarissa Rodriguez',\n",
       "  'http://sherocksatcollege.com/',\n",
       "  'Unconventional contact method'),\n",
       " ('Nasos Papadopoulos',\n",
       "  'http://www.metalearn.net/',\n",
       "  'Inviting, confident photo'),\n",
       " ('Matthew Barby', 'https://www.matthewbarby.com/', 'Compelling tagline'),\n",
       " ('Isa Adney', 'http://isaadney.com/', 'NA'),\n",
       " ('Tasha Meys', 'http://www.tastefullytash.com/', 'Elegant work showcase'),\n",
       " ('Shanice Miller',\n",
       "  'https://www.debtfreecollegegrad.com/',\n",
       "  'Authoritative logo'),\n",
       " ('Edna Cerrillos', 'https://ednatheux.com/', 'Image links'),\n",
       " ('Roxane Gay', 'http://www.roxanegay.com/', 'Minimalism with personality'),\n",
       " ('Charli Marie', 'https://charlimarie.com/', 'Tasteful animation'),\n",
       " ('Diogo Correia', 'https://diogotc.com/', 'Unconventional portfolio design'),\n",
       " ('Anna Ellenberger', 'http://annaellenberger.com/', 'Dramatic color scheme'),\n",
       " ('Scott Santens',\n",
       "  'http://www.scottsantens.com/',\n",
       "  'Concise design and navigation'),\n",
       " ('Sara Stenman', 'http://sarastenman.format.com/', 'Intense minimalism'),\n",
       " ('Chris Brogan', 'http://chrisbrogan.com/', 'Clear value proposition'),\n",
       " ('Sean O’Connor', 'http://seanoconn.org/', 'Concise and memorable'),\n",
       " ('Joel Runyon', 'https://joelrunyon.com/', 'Pick 3 things'),\n",
       " ('Taylor Pearson', 'https://taylorpearson.me/', 'Humility'),\n",
       " ('Tam Pham', 'http://www.tampham.co/', 'Compelling business pitch'),\n",
       " ('Pat Flynn', 'https://patflynn.com/', 'A compelling story'),\n",
       " ('Scott Young',\n",
       "  'https://www.scotthyoung.com/blog/',\n",
       "  'Document your experiments'),\n",
       " ('James Clear',\n",
       "  'https://jamesclear.com/',\n",
       "  'A blend of storytelling and practical advice'),\n",
       " ('Nat Eliason',\n",
       "  'https://www.nateliason.com/',\n",
       "  'Write about what interests you'),\n",
       " ('Austin Kleon', 'https://austinkleon.com/', 'Show your work'),\n",
       " ('Cal Newport', 'http://calnewport.com/', 'Write less; say more'),\n",
       " ('Tania Rascia',\n",
       "  'https://www.taniarascia.com/',\n",
       "  'Editorial integrity and transparency'),\n",
       " ('Kristin Wong', 'https://www.kristinwong.com/', 'Use media logos'),\n",
       " ('Aja Frost', 'http://www.ajafrost.com/', 'Classic, easy navigation'),\n",
       " ('Martin Boehme', 'http://martinboeh.me/', 'One-page portfolio design'),\n",
       " ('Ashley Diers', 'http://ashleyndiers.com/', 'Images are compelling\\xa0'),\n",
       " ('Daniel Grindrod', 'https://www.danielgrindrod.com/', 'Highlight reel'),\n",
       " ('Jon Miron', 'http://jonmiron.com/', 'NA')]"
      ]
     },
     "execution_count": 18,
     "metadata": {},
     "output_type": "execute_result"
    }
   ],
   "source": [
    "records[0:]"
   ]
  },
  {
   "cell_type": "markdown",
   "metadata": {},
   "source": [
    "### STEP 5: Using Pandas to Make it Tabular"
   ]
  },
  {
   "cell_type": "code",
   "execution_count": 20,
   "metadata": {},
   "outputs": [],
   "source": [
    "import pandas as pd\n",
    "df = pd.DataFrame(records, columns = ['Name','Website','Best Part'])"
   ]
  },
  {
   "cell_type": "code",
   "execution_count": 22,
   "metadata": {},
   "outputs": [
    {
     "data": {
      "text/html": [
       "<div>\n",
       "<style scoped>\n",
       "    .dataframe tbody tr th:only-of-type {\n",
       "        vertical-align: middle;\n",
       "    }\n",
       "\n",
       "    .dataframe tbody tr th {\n",
       "        vertical-align: top;\n",
       "    }\n",
       "\n",
       "    .dataframe thead th {\n",
       "        text-align: right;\n",
       "    }\n",
       "</style>\n",
       "<table border=\"1\" class=\"dataframe\">\n",
       "  <thead>\n",
       "    <tr style=\"text-align: right;\">\n",
       "      <th></th>\n",
       "      <th>Name</th>\n",
       "      <th>Website</th>\n",
       "      <th>Best Part</th>\n",
       "    </tr>\n",
       "  </thead>\n",
       "  <tbody>\n",
       "    <tr>\n",
       "      <th>0</th>\n",
       "      <td>Gary Vaynerchuk</td>\n",
       "      <td>https://www.garyvaynerchuk.com/</td>\n",
       "      <td>Featured video</td>\n",
       "    </tr>\n",
       "    <tr>\n",
       "      <th>1</th>\n",
       "      <td>Hank Green</td>\n",
       "      <td>https://www.hankgreen.com/</td>\n",
       "      <td>Project showcase with personality</td>\n",
       "    </tr>\n",
       "    <tr>\n",
       "      <th>2</th>\n",
       "      <td>John Green</td>\n",
       "      <td>http://www.johngreenbooks.com/</td>\n",
       "      <td>Compact project showcase</td>\n",
       "    </tr>\n",
       "    <tr>\n",
       "      <th>3</th>\n",
       "      <td>Teju Cole</td>\n",
       "      <td>http://www.tejucole.com/</td>\n",
       "      <td>NA</td>\n",
       "    </tr>\n",
       "    <tr>\n",
       "      <th>4</th>\n",
       "      <td>CGP Grey</td>\n",
       "      <td>http://www.cgpgrey.com/</td>\n",
       "      <td>Minimalist project list</td>\n",
       "    </tr>\n",
       "    <tr>\n",
       "      <th>5</th>\n",
       "      <td>Grant Baldwin</td>\n",
       "      <td>http://grantbaldwin.com/</td>\n",
       "      <td>Clear navigation</td>\n",
       "    </tr>\n",
       "    <tr>\n",
       "      <th>6</th>\n",
       "      <td>Zachary Sexton</td>\n",
       "      <td>https://zacharysexton.com/</td>\n",
       "      <td>Concise tagline</td>\n",
       "    </tr>\n",
       "    <tr>\n",
       "      <th>7</th>\n",
       "      <td>Rebecca Parson</td>\n",
       "      <td>http://www.soundsgoodcopy.com/</td>\n",
       "      <td>Clear contact information</td>\n",
       "    </tr>\n",
       "    <tr>\n",
       "      <th>8</th>\n",
       "      <td>Al Kavadlo</td>\n",
       "      <td>http://www.alkavadlo.com/</td>\n",
       "      <td>Branding with personality</td>\n",
       "    </tr>\n",
       "    <tr>\n",
       "      <th>9</th>\n",
       "      <td>Dr. Steven Kinnear</td>\n",
       "      <td>http://stevenkinnear.com/</td>\n",
       "      <td>Unconventional branding</td>\n",
       "    </tr>\n",
       "  </tbody>\n",
       "</table>\n",
       "</div>"
      ],
      "text/plain": [
       "                 Name                          Website  \\\n",
       "0     Gary Vaynerchuk  https://www.garyvaynerchuk.com/   \n",
       "1          Hank Green       https://www.hankgreen.com/   \n",
       "2          John Green   http://www.johngreenbooks.com/   \n",
       "3           Teju Cole         http://www.tejucole.com/   \n",
       "4            CGP Grey          http://www.cgpgrey.com/   \n",
       "5       Grant Baldwin         http://grantbaldwin.com/   \n",
       "6      Zachary Sexton       https://zacharysexton.com/   \n",
       "7      Rebecca Parson   http://www.soundsgoodcopy.com/   \n",
       "8          Al Kavadlo        http://www.alkavadlo.com/   \n",
       "9  Dr. Steven Kinnear        http://stevenkinnear.com/   \n",
       "\n",
       "                           Best Part  \n",
       "0                     Featured video  \n",
       "1  Project showcase with personality  \n",
       "2           Compact project showcase  \n",
       "3                                 NA  \n",
       "4            Minimalist project list  \n",
       "5                   Clear navigation  \n",
       "6                    Concise tagline  \n",
       "7          Clear contact information  \n",
       "8          Branding with personality  \n",
       "9            Unconventional branding  "
      ]
     },
     "execution_count": 22,
     "metadata": {},
     "output_type": "execute_result"
    }
   ],
   "source": [
    "df.head(10)"
   ]
  },
  {
   "cell_type": "code",
   "execution_count": 23,
   "metadata": {},
   "outputs": [],
   "source": [
    "df.to_csv('Best_self_branding_websites_2019.csv', index=False, encoding='utf-8') ## getting a csv file"
   ]
  },
  {
   "cell_type": "code",
   "execution_count": null,
   "metadata": {},
   "outputs": [],
   "source": []
  }
 ],
 "metadata": {
  "kernelspec": {
   "display_name": "Python 3",
   "language": "python",
   "name": "python3"
  },
  "language_info": {
   "codemirror_mode": {
    "name": "ipython",
    "version": 3
   },
   "file_extension": ".py",
   "mimetype": "text/x-python",
   "name": "python",
   "nbconvert_exporter": "python",
   "pygments_lexer": "ipython3",
   "version": "3.6.5"
  }
 },
 "nbformat": 4,
 "nbformat_minor": 2
}
